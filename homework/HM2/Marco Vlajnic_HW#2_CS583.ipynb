{
 "cells": [
  {
   "cell_type": "markdown",
   "metadata": {},
   "source": [
    "# HM2: Numerical Optimization for Logistic Regression.\n",
    "\n",
    "### Name: [Marco Vlajnic]\n"
   ]
  },
  {
   "cell_type": "markdown",
   "metadata": {},
   "source": [
    "## 0. You will do the following:\n",
    "\n",
    "1. Read the lecture note: [click here](https://github.com/wangshusen/DeepLearning/blob/master/LectureNotes/Logistic/paper/logistic.pdf)\n",
    "\n",
    "2. Read, complete, and run my code.\n",
    "\n",
    "3. **Implement mini-batch SGD** and evaluate the performance.\n",
    "\n",
    "4. Convert the .IPYNB file to .HTML file.\n",
    "\n",
    "    * The HTML file must contain **the code** and **the output after execution**.\n",
    "    \n",
    "    * Missing **the output after execution** will not be graded.\n",
    "    \n",
    "5. Upload this .HTML file to your Google Drive, Dropbox, or your Github repo.  (If you submit the file to Google Drive or Dropbox, you must make the file \"open-access\". The delay caused by \"deny of access\" may result in late penalty.)\n",
    "\n",
    "6. Submit the link to this .HTML file to Canvas.\n",
    "\n",
    "    * Example: https://github.com/wangshusen/CS583-2020S/blob/master/homework/HM2/HM2.html\n",
    "\n",
    "\n",
    "## Grading criteria:\n",
    "\n",
    "1. When computing the ```gradient``` and ```objective function value``` using a batch of samples, use **matrix-vector multiplication** rather than a FOR LOOP of **vector-vector multiplications**.\n",
    "\n",
    "2. Plot ```objective function value``` against ```epochs```. In the plot, compare GD, SGD, and MB-SGD (with $b=8$ and $b=64$). The plot must look reasonable."
   ]
  },
  {
   "cell_type": "code",
   "execution_count": null,
   "metadata": {},
   "outputs": [],
   "source": []
  },
  {
   "cell_type": "markdown",
   "metadata": {},
   "source": [
    "# 1. Data processing\n",
    "\n",
    "- Download the Diabete dataset from https://www.csie.ntu.edu.tw/~cjlin/libsvmtools/datasets/binary/diabetes\n",
    "- Load the data using sklearn.\n",
    "- Preprocess the data."
   ]
  },
  {
   "cell_type": "markdown",
   "metadata": {},
   "source": [
    "## 1.1. Load the data"
   ]
  },
  {
   "cell_type": "code",
   "execution_count": 1,
   "metadata": {},
   "outputs": [
    {
     "name": "stdout",
     "output_type": "stream",
     "text": [
      "Shape of x: (768, 8)\n",
      "Shape of y: (768,)\n"
     ]
    }
   ],
   "source": [
    "from sklearn import datasets\n",
    "import numpy\n",
    "\n",
    "x_sparse, y = datasets.load_svmlight_file('diabetes')\n",
    "x = x_sparse.todense()\n",
    "\n",
    "print('Shape of x: ' + str(x.shape))\n",
    "print('Shape of y: ' + str(y.shape))"
   ]
  },
  {
   "cell_type": "markdown",
   "metadata": {},
   "source": [
    "## 1.2. Partition to training and test sets"
   ]
  },
  {
   "cell_type": "code",
   "execution_count": 2,
   "metadata": {},
   "outputs": [
    {
     "name": "stdout",
     "output_type": "stream",
     "text": [
      "Shape of x_train: (640, 8)\n",
      "Shape of x_test: (128, 8)\n",
      "Shape of y_train: (640, 1)\n",
      "Shape of y_test: (128, 1)\n"
     ]
    }
   ],
   "source": [
    "# partition the data to training and test sets\n",
    "n = x.shape[0]\n",
    "n_train = 640\n",
    "n_test = n - n_train\n",
    "\n",
    "rand_indices = numpy.random.permutation(n)\n",
    "train_indices = rand_indices[0:n_train]\n",
    "test_indices = rand_indices[n_train:n]\n",
    "\n",
    "x_train = x[train_indices, :]\n",
    "x_test = x[test_indices, :]\n",
    "y_train = y[train_indices].reshape(n_train, 1)\n",
    "y_test = y[test_indices].reshape(n_test, 1)\n",
    "\n",
    "print('Shape of x_train: ' + str(x_train.shape))\n",
    "print('Shape of x_test: ' + str(x_test.shape))\n",
    "print('Shape of y_train: ' + str(y_train.shape))\n",
    "print('Shape of y_test: ' + str(y_test.shape))"
   ]
  },
  {
   "cell_type": "markdown",
   "metadata": {},
   "source": [
    "## 1.3. Feature scaling"
   ]
  },
  {
   "cell_type": "markdown",
   "metadata": {},
   "source": [
    "Use the standardization to trainsform both training and test features"
   ]
  },
  {
   "cell_type": "code",
   "execution_count": 3,
   "metadata": {},
   "outputs": [
    {
     "name": "stdout",
     "output_type": "stream",
     "text": [
      "test mean = \n",
      "[[ 0.1824004   0.01908676  0.13488346  0.01435567  0.03916513  0.02295974\n",
      "  -0.04718874  0.1322169 ]]\n",
      "test std = \n",
      "[[1.22292561 0.95800684 0.85220041 1.01898013 1.25385806 1.07496971\n",
      "  0.942316   1.04956613]]\n"
     ]
    }
   ],
   "source": [
    "# Standardization\n",
    "import numpy\n",
    "\n",
    "# calculate mu and sig using the training set\n",
    "d = x_train.shape[1]\n",
    "mu = numpy.mean(x_train, axis=0).reshape(1, d)\n",
    "sig = numpy.std(x_train, axis=0).reshape(1, d)\n",
    "\n",
    "# transform the training features\n",
    "x_train = (x_train - mu) / (sig + 1E-6)\n",
    "\n",
    "# transform the test features\n",
    "x_test = (x_test - mu) / (sig + 1E-6)\n",
    "\n",
    "print('test mean = ')\n",
    "print(numpy.mean(x_test, axis=0))\n",
    "\n",
    "print('test std = ')\n",
    "print(numpy.std(x_test, axis=0))"
   ]
  },
  {
   "cell_type": "markdown",
   "metadata": {},
   "source": [
    "## 1.4. Add a dimension of all ones"
   ]
  },
  {
   "cell_type": "code",
   "execution_count": 4,
   "metadata": {},
   "outputs": [
    {
     "name": "stdout",
     "output_type": "stream",
     "text": [
      "Shape of x_train: (640, 9)\n",
      "Shape of x_test: (128, 9)\n"
     ]
    }
   ],
   "source": [
    "n_train, d = x_train.shape\n",
    "x_train = numpy.concatenate((x_train, numpy.ones((n_train, 1))), axis=1)\n",
    "\n",
    "n_test, d = x_test.shape\n",
    "x_test = numpy.concatenate((x_test, numpy.ones((n_test, 1))), axis=1)\n",
    "\n",
    "print('Shape of x_train: ' + str(x_train.shape))\n",
    "print('Shape of x_test: ' + str(x_test.shape))"
   ]
  },
  {
   "cell_type": "markdown",
   "metadata": {},
   "source": [
    "# 2. Logistic regression model\n",
    "\n",
    "The objective function is $Q (w; X, y) = \\frac{1}{n} \\sum_{i=1}^n \\log \\Big( 1 + \\exp \\big( - y_i x_i^T w \\big) \\Big) + \\frac{\\lambda}{2} \\| w \\|_2^2 $."
   ]
  },
  {
   "cell_type": "code",
   "execution_count": 5,
   "metadata": {},
   "outputs": [],
   "source": [
    "# Calculate the objective function value\n",
    "# Inputs:\n",
    "#     w: d-by-1 matrix\n",
    "#     x: n-by-d matrix\n",
    "#     y: n-by-1 matrix\n",
    "#     lam: scalar, the regularization parameter\n",
    "# Return:\n",
    "#     objective function value (scalar)\n",
    "def objective(w, x, y, lam):\n",
    "    n, d = x.shape\n",
    "    yx = numpy.multiply(y, x) # n-by-d matrix\n",
    "    yxw = numpy.dot(yx, w) # n-by-1 matrix\n",
    "    vec1 = numpy.exp(-yxw) # n-by-1 matrix\n",
    "    vec2 = numpy.log(1 + vec1) # n-by-1 matrix\n",
    "    loss = numpy.mean(vec2) # scalar\n",
    "    reg = lam / 2 * numpy.sum(w * w) # scalar\n",
    "    return loss + reg\n",
    "    "
   ]
  },
  {
   "cell_type": "code",
   "execution_count": 6,
   "metadata": {},
   "outputs": [
    {
     "name": "stdout",
     "output_type": "stream",
     "text": [
      "Initial objective function value = 0.6931471805599453\n"
     ]
    }
   ],
   "source": [
    "# initialize w\n",
    "d = x_train.shape[1]\n",
    "w = numpy.zeros((d, 1))\n",
    "\n",
    "# evaluate the objective function value at w\n",
    "lam = 1E-6\n",
    "objval0 = objective(w, x_train, y_train, lam)\n",
    "print('Initial objective function value = ' + str(objval0))"
   ]
  },
  {
   "cell_type": "markdown",
   "metadata": {},
   "source": [
    "# 3. Numerical optimization"
   ]
  },
  {
   "cell_type": "markdown",
   "metadata": {},
   "source": [
    "## 3.1. Gradient descent\n"
   ]
  },
  {
   "cell_type": "markdown",
   "metadata": {},
   "source": [
    "The gradient at $w$ is $g = - \\frac{1}{n} \\sum_{i=1}^n \\frac{y_i x_i }{1 + \\exp ( y_i x_i^T w)} + \\lambda w$"
   ]
  },
  {
   "cell_type": "code",
   "execution_count": 7,
   "metadata": {},
   "outputs": [],
   "source": [
    "# Calculate the gradient\n",
    "# Inputs:\n",
    "#     w: d-by-1 matrix\n",
    "#     x: n-by-d matrix\n",
    "#     y: n-by-1 matrix\n",
    "#     lam: scalar, the regularization parameter\n",
    "# Return:\n",
    "#     g: g: d-by-1 matrix, full gradient\n",
    "def gradient(w, x, y, lam):\n",
    "    n, d = x.shape\n",
    "    yx = numpy.multiply(y, x) # n-by-d matrix\n",
    "    yxw = numpy.dot(yx, w) # n-by-1 matrix\n",
    "    vec1 = numpy.exp(yxw) # n-by-1 matrix\n",
    "    vec2 = numpy.divide(yx, 1+vec1) # n-by-d matrix\n",
    "    vec3 = -numpy.mean(vec2, axis=0).reshape(d, 1) # d-by-1 matrix\n",
    "    g = vec3 + lam * w\n",
    "    return g"
   ]
  },
  {
   "cell_type": "code",
   "execution_count": 8,
   "metadata": {},
   "outputs": [],
   "source": [
    "# Gradient descent for solving logistic regression\n",
    "# Inputs:\n",
    "#     x: n-by-d matrix\n",
    "#     y: n-by-1 matrix\n",
    "#     lam: scalar, the regularization parameter\n",
    "#     stepsize: scalar\n",
    "#     max_iter: integer, the maximal iterations\n",
    "#     w: d-by-1 matrix, initialization of w\n",
    "# Return:\n",
    "#     w: d-by-1 matrix, the solution\n",
    "#     objvals: a record of each iteration's objective value\n",
    "def grad_descent(x, y, lam, stepsize, max_iter=100, w=None):\n",
    "    n, d = x.shape\n",
    "    objvals = numpy.zeros(max_iter) # store the objective values\n",
    "    if w is None:\n",
    "        w = numpy.zeros((d, 1)) # zero initialization\n",
    "    \n",
    "    for t in range(max_iter):\n",
    "        objval = objective(w, x, y, lam)\n",
    "        objvals[t] = objval\n",
    "        print('Objective value at t=' + str(t) + ' is ' + str(objval))\n",
    "        g = gradient(w, x, y, lam)\n",
    "        w -= stepsize * g\n",
    "    \n",
    "    return w, objvals"
   ]
  },
  {
   "cell_type": "markdown",
   "metadata": {},
   "source": [
    "Run gradient descent."
   ]
  },
  {
   "cell_type": "code",
   "execution_count": 9,
   "metadata": {},
   "outputs": [
    {
     "name": "stdout",
     "output_type": "stream",
     "text": [
      "Objective value at t=0 is 0.6931471805599453\n",
      "Objective value at t=1 is 0.5884728013724142\n",
      "Objective value at t=2 is 0.5450894194718824\n",
      "Objective value at t=3 is 0.5213962131110117\n",
      "Objective value at t=4 is 0.5063916175430143\n",
      "Objective value at t=5 is 0.4960777972956632\n",
      "Objective value at t=6 is 0.48862181180335507\n",
      "Objective value at t=7 is 0.4830456658645102\n",
      "Objective value at t=8 is 0.4787714418296523\n",
      "Objective value at t=9 is 0.47543261396228714\n",
      "Objective value at t=10 is 0.4727846639243939\n",
      "Objective value at t=11 is 0.47065821472569\n",
      "Objective value at t=12 is 0.4689324698409061\n",
      "Objective value at t=13 is 0.4675192344576656\n",
      "Objective value at t=14 is 0.4663528488758234\n",
      "Objective value at t=15 is 0.46538361195147676\n",
      "Objective value at t=16 is 0.4645733567661404\n",
      "Objective value at t=17 is 0.46389240089693007\n",
      "Objective value at t=18 is 0.46331740020916834\n",
      "Objective value at t=19 is 0.46282981100538856\n",
      "Objective value at t=20 is 0.4624147703435402\n",
      "Objective value at t=21 is 0.4620602690476378\n",
      "Objective value at t=22 is 0.46175653291947766\n",
      "Objective value at t=23 is 0.4614955542257997\n",
      "Objective value at t=24 is 0.4612707331035996\n",
      "Objective value at t=25 is 0.46107660035246945\n",
      "Objective value at t=26 is 0.4609086011715974\n",
      "Objective value at t=27 is 0.46076292501237237\n",
      "Objective value at t=28 is 0.46063637066532614\n",
      "Objective value at t=29 is 0.46052623851113217\n",
      "Objective value at t=30 is 0.46043024389012027\n",
      "Objective value at t=31 is 0.4603464470189947\n",
      "Objective value at t=32 is 0.4602731959677719\n",
      "Objective value at t=33 is 0.4602090800151202\n",
      "Objective value at t=34 is 0.46015289130356196\n",
      "Objective value at t=35 is 0.4601035931718417\n",
      "Objective value at t=36 is 0.46006029388897063\n",
      "Objective value at t=37 is 0.46002222478092175\n",
      "Objective value at t=38 is 0.45998872194691165\n",
      "Objective value at t=39 is 0.4599592109224783\n",
      "Objective value at t=40 is 0.45993319377208935\n",
      "Objective value at t=41 is 0.4599102381929124\n",
      "Objective value at t=42 is 0.4598899682897552\n",
      "Objective value at t=43 is 0.4598720567436275\n",
      "Objective value at t=44 is 0.45985621814638544\n",
      "Objective value at t=45 is 0.45984220331417036\n",
      "Objective value at t=46 is 0.4598297944248907\n",
      "Objective value at t=47 is 0.459818800851428\n",
      "Objective value at t=48 is 0.45980905558379587\n",
      "Objective value at t=49 is 0.459800412151125\n",
      "Objective value at t=50 is 0.459792741968852\n",
      "Objective value at t=51 is 0.4597859320484458\n",
      "Objective value at t=52 is 0.4597798830169066\n",
      "Objective value at t=53 is 0.45977450740149045\n",
      "Objective value at t=54 is 0.4597697281419584\n",
      "Objective value at t=55 is 0.45976547729836387\n",
      "Objective value at t=56 is 0.45976169492718627\n",
      "Objective value at t=57 is 0.4597583281026396\n",
      "Objective value at t=58 is 0.45975533006337105\n",
      "Objective value at t=59 is 0.4597526594676272\n",
      "Objective value at t=60 is 0.4597502797423827\n",
      "Objective value at t=61 is 0.45974815851397843\n",
      "Objective value at t=62 is 0.4597462671095604\n",
      "Objective value at t=63 is 0.45974458012009267\n",
      "Objective value at t=64 is 0.4597430750169875\n",
      "Objective value at t=65 is 0.4597417318154755\n",
      "Objective value at t=66 is 0.45974053277876537\n",
      "Objective value at t=67 is 0.45973946215784134\n",
      "Objective value at t=68 is 0.45973850596242444\n",
      "Objective value at t=69 is 0.4597376517592136\n",
      "Objective value at t=70 is 0.45973688849403144\n",
      "Objective value at t=71 is 0.45973620633493145\n",
      "Objective value at t=72 is 0.4597355965337038\n",
      "Objective value at t=73 is 0.459735051303547\n",
      "Objective value at t=74 is 0.4597345637109468\n",
      "Objective value at t=75 is 0.4597341275800591\n",
      "Objective value at t=76 is 0.4597337374081021\n",
      "Objective value at t=77 is 0.4597333882904468\n",
      "Objective value at t=78 is 0.4597330758542606\n",
      "Objective value at t=79 is 0.45973279619969726\n",
      "Objective value at t=80 is 0.45973254584774864\n",
      "Objective value at t=81 is 0.4597323216939817\n",
      "Objective value at t=82 is 0.4597321209674784\n",
      "Objective value at t=83 is 0.45973194119437594\n",
      "Objective value at t=84 is 0.4597317801654803\n",
      "Objective value at t=85 is 0.45973163590748256\n",
      "Objective value at t=86 is 0.4597315066573717\n",
      "Objective value at t=87 is 0.4597313908396758\n",
      "Objective value at t=88 is 0.4597312870462142\n",
      "Objective value at t=89 is 0.45973119401807605\n",
      "Objective value at t=90 is 0.4597311106295758\n",
      "Objective value at t=91 is 0.4597310358739623\n",
      "Objective value at t=92 is 0.4597309688506875\n",
      "Objective value at t=93 is 0.45973090875406064\n",
      "Objective value at t=94 is 0.45973085486313314\n",
      "Objective value at t=95 is 0.459730806532679\n",
      "Objective value at t=96 is 0.4597307631851494\n",
      "Objective value at t=97 is 0.4597307243034952\n",
      "Objective value at t=98 is 0.45973068942476053\n",
      "Objective value at t=99 is 0.4597306581343643\n"
     ]
    }
   ],
   "source": [
    "lam = 1E-6\n",
    "stepsize = 1.0\n",
    "w, objvals_gd = grad_descent(x_train, y_train, lam, stepsize)"
   ]
  },
  {
   "cell_type": "markdown",
   "metadata": {},
   "source": [
    "## 3.2. Stochastic gradient descent (SGD)\n",
    "\n",
    "Define $Q_i (w) = \\log \\Big( 1 + \\exp \\big( - y_i x_i^T w \\big) \\Big) + \\frac{\\lambda}{2} \\| w \\|_2^2 $.\n",
    "\n",
    "The stochastic gradient at $w$ is $g_i = \\frac{\\partial Q_i }{ \\partial w} = -\\frac{y_i x_i }{1 + \\exp ( y_i x_i^T w)} + \\lambda w$."
   ]
  },
  {
   "cell_type": "code",
   "execution_count": 10,
   "metadata": {},
   "outputs": [],
   "source": [
    "# Calculate the objective Q_i and the gradient of Q_i\n",
    "# Inputs:\n",
    "#     w: d-by-1 matrix\n",
    "#     xi: 1-by-d matrix\n",
    "#     yi: scalar\n",
    "#     lam: scalar, the regularization parameter\n",
    "# Return:\n",
    "#     obj: scalar, the objective Q_i\n",
    "#     g: d-by-1 matrix, gradient of Q_i\n",
    "def stochastic_objective_gradient(w, xi, yi, lam):\n",
    "    d = xi.shape[0]\n",
    "    yx = yi * xi # 1-by-d matrix\n",
    "    yxw = float(numpy.dot(yx, w)) # scalar\n",
    "    \n",
    "    # calculate objective function Q_i\n",
    "    loss = numpy.log(1 + numpy.exp(-yxw)) # scalar\n",
    "    reg = lam / 2 * numpy.sum(w * w) # scalar\n",
    "    obj = loss + reg\n",
    "    \n",
    "    # calculate stochastic gradient\n",
    "    g_loss = -yx.T / (1 + numpy.exp(yxw)) # d-by-1 matrix\n",
    "    g = g_loss + lam * w # d-by-1 matrix\n",
    "    \n",
    "    return obj, g"
   ]
  },
  {
   "cell_type": "code",
   "execution_count": 11,
   "metadata": {},
   "outputs": [],
   "source": [
    "# SGD for solving logistic regression\n",
    "# Inputs:\n",
    "#     x: n-by-d matrix\n",
    "#     y: n-by-1 matrix\n",
    "#     lam: scalar, the regularization parameter\n",
    "#     stepsize: scalar\n",
    "#     max_epoch: integer, the maximal epochs\n",
    "#     w: d-by-1 matrix, initialization of w\n",
    "# Return:\n",
    "#     w: the solution\n",
    "#     objvals: record of each iteration's objective value\n",
    "def sgd(x, y, lam, stepsize, max_epoch=100, w=None):\n",
    "    n, d = x.shape\n",
    "    objvals = numpy.zeros(max_epoch) # store the objective values\n",
    "    if w is None:\n",
    "        w = numpy.zeros((d, 1)) # zero initialization\n",
    "    \n",
    "    for t in range(max_epoch):\n",
    "        # randomly shuffle the samples\n",
    "        rand_indices = numpy.random.permutation(n)\n",
    "        x_rand = x[rand_indices, :]\n",
    "        y_rand = y[rand_indices, :]\n",
    "        \n",
    "        objval = 0 # accumulate the objective values\n",
    "        for i in range(n):\n",
    "            xi = x_rand[i, :] # 1-by-d matrix\n",
    "            yi = float(y_rand[i, :]) # scalar\n",
    "            obj, g = stochastic_objective_gradient(w, xi, yi, lam)\n",
    "            objval += obj\n",
    "            w -= stepsize * g\n",
    "        \n",
    "        stepsize *= 0.9 # decrease step size\n",
    "        objval /= n\n",
    "        objvals[t] = objval\n",
    "        print('Objective value at epoch t=' + str(t) + ' is ' + str(objval))\n",
    "    \n",
    "    return w, objvals"
   ]
  },
  {
   "cell_type": "markdown",
   "metadata": {},
   "source": [
    "Run SGD."
   ]
  },
  {
   "cell_type": "code",
   "execution_count": 12,
   "metadata": {},
   "outputs": [
    {
     "name": "stdout",
     "output_type": "stream",
     "text": [
      "Objective value at epoch t=0 is 0.5156771469824464\n",
      "Objective value at epoch t=1 is 0.5119237244249611\n",
      "Objective value at epoch t=2 is 0.4977690883167485\n",
      "Objective value at epoch t=3 is 0.5004482183519673\n",
      "Objective value at epoch t=4 is 0.49362243618564605\n",
      "Objective value at epoch t=5 is 0.4879665439075344\n",
      "Objective value at epoch t=6 is 0.49186142108206266\n",
      "Objective value at epoch t=7 is 0.4854029826044172\n",
      "Objective value at epoch t=8 is 0.48078132473374086\n",
      "Objective value at epoch t=9 is 0.48112862505891396\n",
      "Objective value at epoch t=10 is 0.4780911270878403\n",
      "Objective value at epoch t=11 is 0.47619829243906153\n",
      "Objective value at epoch t=12 is 0.47473837123417517\n",
      "Objective value at epoch t=13 is 0.47657608417177527\n",
      "Objective value at epoch t=14 is 0.4730785528506667\n",
      "Objective value at epoch t=15 is 0.46973329569381306\n",
      "Objective value at epoch t=16 is 0.46820203433799257\n",
      "Objective value at epoch t=17 is 0.46840680454201833\n",
      "Objective value at epoch t=18 is 0.46848195200073206\n",
      "Objective value at epoch t=19 is 0.46841396290007475\n",
      "Objective value at epoch t=20 is 0.4672488571917956\n",
      "Objective value at epoch t=21 is 0.46504621682189307\n",
      "Objective value at epoch t=22 is 0.46642688931484616\n",
      "Objective value at epoch t=23 is 0.4652780106817449\n",
      "Objective value at epoch t=24 is 0.4644578736188699\n",
      "Objective value at epoch t=25 is 0.46448621189276496\n",
      "Objective value at epoch t=26 is 0.46365209588249334\n",
      "Objective value at epoch t=27 is 0.4635167165747879\n",
      "Objective value at epoch t=28 is 0.4630845450992438\n",
      "Objective value at epoch t=29 is 0.4628521528298382\n",
      "Objective value at epoch t=30 is 0.4624777060952942\n",
      "Objective value at epoch t=31 is 0.4623304963905703\n",
      "Objective value at epoch t=32 is 0.4620939997676753\n",
      "Objective value at epoch t=33 is 0.4618092871384933\n",
      "Objective value at epoch t=34 is 0.46156522111657744\n",
      "Objective value at epoch t=35 is 0.4614066492854419\n",
      "Objective value at epoch t=36 is 0.4611964901762292\n",
      "Objective value at epoch t=37 is 0.4611288524012645\n",
      "Objective value at epoch t=38 is 0.46098415572987916\n",
      "Objective value at epoch t=39 is 0.4608644175091031\n",
      "Objective value at epoch t=40 is 0.4607439052461856\n",
      "Objective value at epoch t=41 is 0.4606300031066975\n",
      "Objective value at epoch t=42 is 0.46055441615812115\n",
      "Objective value at epoch t=43 is 0.460461733762605\n",
      "Objective value at epoch t=44 is 0.460404975172444\n",
      "Objective value at epoch t=45 is 0.4603315199550894\n",
      "Objective value at epoch t=46 is 0.4602756441890862\n",
      "Objective value at epoch t=47 is 0.46021912721325464\n",
      "Objective value at epoch t=48 is 0.4601734065039681\n",
      "Objective value at epoch t=49 is 0.4601284045721993\n",
      "Objective value at epoch t=50 is 0.4600891804269455\n",
      "Objective value at epoch t=51 is 0.46005363553687395\n",
      "Objective value at epoch t=52 is 0.4600200737544715\n",
      "Objective value at epoch t=53 is 0.4599927114084251\n",
      "Objective value at epoch t=54 is 0.45996443785099855\n",
      "Objective value at epoch t=55 is 0.4599426369094221\n",
      "Objective value at epoch t=56 is 0.4599213351714839\n",
      "Objective value at epoch t=57 is 0.45990179450910185\n",
      "Objective value at epoch t=58 is 0.45988518341379836\n",
      "Objective value at epoch t=59 is 0.4598697925583467\n",
      "Objective value at epoch t=60 is 0.4598560878088092\n",
      "Objective value at epoch t=61 is 0.45984311657852617\n",
      "Objective value at epoch t=62 is 0.4598324583724655\n",
      "Objective value at epoch t=63 is 0.45982226298030593\n",
      "Objective value at epoch t=64 is 0.45981311387661855\n",
      "Objective value at epoch t=65 is 0.4598047738434149\n",
      "Objective value at epoch t=66 is 0.45979733970145575\n",
      "Objective value at epoch t=67 is 0.45979075336389413\n",
      "Objective value at epoch t=68 is 0.4597846824709748\n",
      "Objective value at epoch t=69 is 0.4597793395150739\n",
      "Objective value at epoch t=70 is 0.45977449949284965\n",
      "Objective value at epoch t=71 is 0.45977003968972363\n",
      "Objective value at epoch t=72 is 0.45976615780906493\n",
      "Objective value at epoch t=73 is 0.45976262065765566\n",
      "Objective value at epoch t=74 is 0.45975942262571784\n",
      "Objective value at epoch t=75 is 0.4597565589511551\n",
      "Objective value at epoch t=76 is 0.459753958506707\n",
      "Objective value at epoch t=77 is 0.4597516254801294\n",
      "Objective value at epoch t=78 is 0.4597495315208806\n",
      "Objective value at epoch t=79 is 0.45974764873089075\n",
      "Objective value at epoch t=80 is 0.45974594729314333\n",
      "Objective value at epoch t=81 is 0.45974442062064014\n",
      "Objective value at epoch t=82 is 0.45974304623523643\n",
      "Objective value at epoch t=83 is 0.459741808280789\n",
      "Objective value at epoch t=84 is 0.45974069498130066\n",
      "Objective value at epoch t=85 is 0.4597396900366541\n",
      "Objective value at epoch t=86 is 0.4597387866021396\n",
      "Objective value at epoch t=87 is 0.45973797191814186\n",
      "Objective value at epoch t=88 is 0.45973724379471753\n",
      "Objective value at epoch t=89 is 0.4597365857745642\n",
      "Objective value at epoch t=90 is 0.45973599318930314\n",
      "Objective value at epoch t=91 is 0.45973545973537044\n",
      "Objective value at epoch t=92 is 0.45973497996419327\n",
      "Objective value at epoch t=93 is 0.45973454812111997\n",
      "Objective value at epoch t=94 is 0.4597341591171179\n",
      "Objective value at epoch t=95 is 0.45973380938802616\n",
      "Objective value at epoch t=96 is 0.45973349447426576\n",
      "Objective value at epoch t=97 is 0.45973321102697734\n",
      "Objective value at epoch t=98 is 0.4597329558702296\n",
      "Objective value at epoch t=99 is 0.4597327262209691\n"
     ]
    }
   ],
   "source": [
    "lam = 1E-6\n",
    "stepsize = 0.1\n",
    "w, objvals_sgd = sgd(x_train, y_train, lam, stepsize)"
   ]
  },
  {
   "cell_type": "markdown",
   "metadata": {},
   "source": [
    "# 4. Compare GD with SGD\n",
    "\n",
    "Plot objective function values against epochs."
   ]
  },
  {
   "cell_type": "code",
   "execution_count": 13,
   "metadata": {},
   "outputs": [
    {
     "name": "stderr",
     "output_type": "stream",
     "text": [
      "<ipython-input-13-9b8d8f4cdfb5>:9: MatplotlibDeprecationWarning: Case-insensitive properties were deprecated in 3.3 and support will be removed two minor releases later\n",
      "  line0, = plt.plot(epochs_gd, objvals_gd, '--b', LineWidth=4)\n",
      "<ipython-input-13-9b8d8f4cdfb5>:10: MatplotlibDeprecationWarning: Case-insensitive properties were deprecated in 3.3 and support will be removed two minor releases later\n",
      "  line1, = plt.plot(epochs_sgd, objvals_sgd, '-r', LineWidth=2)\n",
      "<ipython-input-13-9b8d8f4cdfb5>:11: MatplotlibDeprecationWarning: Case-insensitive properties were deprecated in 3.3 and support will be removed two minor releases later\n",
      "  plt.xlabel('Epochs', FontSize=20)\n",
      "<ipython-input-13-9b8d8f4cdfb5>:12: MatplotlibDeprecationWarning: Case-insensitive properties were deprecated in 3.3 and support will be removed two minor releases later\n",
      "  plt.ylabel('Objective Value', FontSize=20)\n",
      "<ipython-input-13-9b8d8f4cdfb5>:13: MatplotlibDeprecationWarning: Case-insensitive properties were deprecated in 3.3 and support will be removed two minor releases later\n",
      "  plt.xticks(FontSize=16)\n",
      "<ipython-input-13-9b8d8f4cdfb5>:14: MatplotlibDeprecationWarning: Case-insensitive properties were deprecated in 3.3 and support will be removed two minor releases later\n",
      "  plt.yticks(FontSize=16)\n"
     ]
    },
    {
     "data": {
      "image/png": "[encoded data removed]",
      "text/plain": [
       "<Figure size 432x288 with 1 Axes>"
      ]
     },
     "metadata": {
      "needs_background": "light"
     },
     "output_type": "display_data"
    }
   ],
   "source": [
    "import matplotlib.pyplot as plt\n",
    "%matplotlib inline\n",
    "\n",
    "fig = plt.figure(figsize=(6, 4))\n",
    "\n",
    "epochs_gd = range(len(objvals_gd))\n",
    "epochs_sgd = range(len(objvals_sgd))\n",
    "\n",
    "line0, = plt.plot(epochs_gd, objvals_gd, '--b', LineWidth=4)\n",
    "line1, = plt.plot(epochs_sgd, objvals_sgd, '-r', LineWidth=2)\n",
    "plt.xlabel('Epochs', FontSize=20)\n",
    "plt.ylabel('Objective Value', FontSize=20)\n",
    "plt.xticks(FontSize=16)\n",
    "plt.yticks(FontSize=16)\n",
    "plt.legend([line0, line1], ['GD', 'SGD'], fontsize=20)\n",
    "plt.tight_layout()\n",
    "plt.show()\n",
    "fig.savefig('compare_gd_sgd.pdf', format='pdf', dpi=1200)"
   ]
  },
  {
   "cell_type": "markdown",
   "metadata": {},
   "source": [
    "# 5. Prediction"
   ]
  },
  {
   "cell_type": "code",
   "execution_count": 14,
   "metadata": {},
   "outputs": [],
   "source": [
    "# Predict class label\n",
    "# Inputs:\n",
    "#     w: d-by-1 matrix\n",
    "#     X: m-by-d matrix\n",
    "# Return:\n",
    "#     f: m-by-1 matrix, the predictions\n",
    "def predict(w, X):\n",
    "    xw = numpy.dot(X, w)\n",
    "    f = numpy.sign(xw)\n",
    "    return f"
   ]
  },
  {
   "cell_type": "code",
   "execution_count": 15,
   "metadata": {},
   "outputs": [
    {
     "name": "stdout",
     "output_type": "stream",
     "text": [
      "Training classification error is 0.2265625\n"
     ]
    }
   ],
   "source": [
    "# evaluate training error\n",
    "f_train = predict(w, x_train)\n",
    "diff = numpy.abs(f_train - y_train) / 2\n",
    "error_train = numpy.mean(diff)\n",
    "print('Training classification error is ' + str(error_train))"
   ]
  },
  {
   "cell_type": "code",
   "execution_count": 16,
   "metadata": {},
   "outputs": [
    {
     "name": "stdout",
     "output_type": "stream",
     "text": [
      "Test classification error is 0.25\n"
     ]
    }
   ],
   "source": [
    "# evaluate test error\n",
    "f_test = predict(w, x_test)\n",
    "diff = numpy.abs(f_test - y_test) / 2\n",
    "error_test = numpy.mean(diff)\n",
    "print('Test classification error is ' + str(error_test))"
   ]
  },
  {
   "cell_type": "markdown",
   "metadata": {},
   "source": [
    "# 6. Mini-batch SGD (fill the code)\n",
    "\n"
   ]
  },
  {
   "cell_type": "markdown",
   "metadata": {},
   "source": [
    "## 6.1. Compute the objective $Q_I$ and its gradient using a batch of samples\n",
    "\n",
    "Define $Q_I (w) = \\frac{1}{b} \\sum_{i \\in I} \\log \\Big( 1 + \\exp \\big( - y_i x_i^T w \\big) \\Big) + \\frac{\\lambda}{2} \\| w \\|_2^2 $, where $I$ is a set containing $b$ indices randomly drawn from $\\{ 1, \\cdots , n \\}$ without replacement.\n",
    "\n",
    "The stochastic gradient at $w$ is $g_I = \\frac{\\partial Q_I }{ \\partial w} = \\frac{1}{b} \\sum_{i \\in I} \\frac{- y_i x_i }{1 + \\exp ( y_i x_i^T w)} + \\lambda w$."
   ]
  },
  {
   "cell_type": "code",
   "execution_count": 17,
   "metadata": {},
   "outputs": [],
   "source": [
    "# Calculate the objective Q_I and the gradient of Q_I\n",
    "# Inputs:\n",
    "#     w: d-by-1 matrix\n",
    "#     xi: b-by-d matrix\n",
    "#     yi: b-by-1 matrix\n",
    "#     lam: scalar, the regularization parameter\n",
    "#     b: integer, the batch size\n",
    "# Return:\n",
    "#     obj: scalar, the objective Q_i\n",
    "#     g: d-by-1 matrix, gradient of Q_i\n",
    "def mb_stochastic_objective_gradient(w, xi, yi, lam, b):\n",
    "    # Fill the function\n",
    "    # Follow the implementation of stochastic_objective_gradient\n",
    "    # Use matrix-vector multiplication; do not use FOR LOOP of vector-vector multiplications\n",
    "    \n",
    "    d = xi.shape[0]\n",
    "    yx = yi * xi \n",
    "    yxw = float(numpy.dot(yx, w)) # scalar\n",
    "    \n",
    "    # calculate objective function Q_i\n",
    "    loss = numpy.log(1 + numpy.exp(-yxw)) # scalar\n",
    "    reg = lam / 2 * numpy.sum(w * w) # scalar\n",
    "    obj = loss + reg\n",
    "    \n",
    "    # calculate stochastic gradient\n",
    "    g_loss = -yx.T / (1 + numpy.exp(yxw))\n",
    "    g = g_loss + lam * w \n",
    "    \n",
    "    \n",
    "    return obj, g"
   ]
  },
  {
   "cell_type": "markdown",
   "metadata": {},
   "source": [
    "## 6.2. Implement mini-batch SGD\n",
    "\n",
    "Hints:\n",
    "1. In every epoch, randomly permute the $n$ samples (just like SGD).\n",
    "2. Each epoch has $\\frac{n}{b}$ iterations. In every iteration, use $b$ samples, and compute the gradient and objective using the ``mb_stochastic_objective_gradient`` function. In the next iteration, use the next $b$ samples, and so on.\n"
   ]
  },
  {
   "cell_type": "code",
   "execution_count": 18,
   "metadata": {},
   "outputs": [],
   "source": [
    "# Mini-Batch SGD for solving logistic regression\n",
    "# Inputs:\n",
    "#     x: n-by-d matrix\n",
    "#     y: n-by-1 matrix\n",
    "#     lam: scalar, the regularization parameter\n",
    "#     b: integer, the batch size\n",
    "#     stepsize: scalar\n",
    "#     max_epoch: integer, the maximal epochs\n",
    "#     w: d-by-1 mon\n",
    "#     objvals: record of each iteration's objective value\n",
    "def mb_sgd(x, y, lam, b, stepsize, max_epoch=100, w=None):\n",
    "    # Fill the function\n",
    "    # Follow the implementation of sgd\n",
    "    # Record one objective value per epoatrix, initialization of w\n",
    "    # Return w: the solutich (not per iteration!)\n",
    "    \n",
    "    m = len(x)\n",
    "    n, d = x.shape\n",
    "    num_batches = n\n",
    "    b = int(m/num_batches)\n",
    "    objvals = numpy.zeros(max_epoch) # store the objective values\n",
    "    if w is None:\n",
    "        w = numpy.zeros((d, 1)) # zero initialization\n",
    "    \n",
    "    for t in range(max_epoch):\n",
    "        # randomly shuffle the samples\n",
    "        rand_indices = numpy.random.permutation(n)\n",
    "        x_rand = x[rand_indices, :]\n",
    "        y_rand = y[rand_indices, :]\n",
    "        \n",
    "        objval = 0 # accumulate the objective values\n",
    "        for i in range(n):\n",
    "            xi = x[i:i+ b]\n",
    "            yi = y[i:i+ b]\n",
    "            obj, g = mb_stochastic_objective_gradient(w, xi, yi, lam, b)\n",
    "            objval += obj\n",
    "            w -= stepsize * g\n",
    "        \n",
    "        stepsize *= 0.9 # decrease step size\n",
    "        objval /= n\n",
    "        objvals[t] = objval\n",
    "        print('Objective value at epoch t=' + str(t) + ' is ' + str(objval))\n",
    "    \n",
    "    return w, objvals"
   ]
  },
  {
   "cell_type": "markdown",
   "metadata": {},
   "source": [
    "## 6.3. Run MB-SGD"
   ]
  },
  {
   "cell_type": "code",
   "execution_count": 19,
   "metadata": {},
   "outputs": [
    {
     "name": "stdout",
     "output_type": "stream",
     "text": [
      "Objective value at epoch t=0 is 0.5178150328368315\n",
      "Objective value at epoch t=1 is 0.5078435795690179\n",
      "Objective value at epoch t=2 is 0.5033315758978059\n",
      "Objective value at epoch t=3 is 0.4991883241682899\n",
      "Objective value at epoch t=4 is 0.4954966300960212\n",
      "Objective value at epoch t=5 is 0.49220075295179627\n",
      "Objective value at epoch t=6 is 0.48924732725577946\n",
      "Objective value at epoch t=7 is 0.48659078247569065\n",
      "Objective value at epoch t=8 is 0.4841927779955646\n",
      "Objective value at epoch t=9 is 0.4820212539516963\n",
      "Objective value at epoch t=10 is 0.4800494351500245\n",
      "Objective value at epoch t=11 is 0.47825487347442\n",
      "Objective value at epoch t=12 is 0.476618600758298\n",
      "Objective value at epoch t=13 is 0.47512443618489114\n",
      "Objective value at epoch t=14 is 0.47375845363194313\n",
      "Objective value at epoch t=15 is 0.47250858357208153\n",
      "Objective value at epoch t=16 is 0.47136431068112\n",
      "Objective value at epoch t=17 is 0.4703164309650084\n",
      "Objective value at epoch t=18 is 0.4693568438336855\n",
      "Objective value at epoch t=19 is 0.46847836750871935\n",
      "Objective value at epoch t=20 is 0.46767457556804726\n",
      "Objective value at epoch t=21 is 0.466939656780626\n",
      "Objective value at epoch t=22 is 0.4662683005703399\n",
      "Objective value at epoch t=23 is 0.46565560840158166\n",
      "Objective value at epoch t=24 is 0.4650970289062151\n",
      "Objective value at epoch t=25 is 0.46458831277952867\n",
      "Objective value at epoch t=26 is 0.46412548272004034\n",
      "Objective value at epoch t=27 is 0.46370481383449036\n",
      "Objective value at epoch t=28 is 0.46332282063291996\n",
      "Objective value at epoch t=29 is 0.46297624766326456\n",
      "Objective value at epoch t=30 is 0.4626620617430978\n",
      "Objective value at epoch t=31 is 0.4623774445112141\n",
      "Objective value at epoch t=32 is 0.46211978460119607\n",
      "Objective value at epoch t=33 is 0.4618866691408283\n",
      "Objective value at epoch t=34 is 0.4616758745365702\n",
      "Objective value at epoch t=35 is 0.46148535664808354\n",
      "Objective value at epoch t=36 is 0.4613132405278718\n",
      "Objective value at epoch t=37 is 0.4611578099224073\n",
      "Objective value at epoch t=38 is 0.46101749672354053\n",
      "Objective value at epoch t=39 is 0.4608908705361177\n",
      "Objective value at epoch t=40 is 0.46077662849849743\n",
      "Objective value at epoch t=41 is 0.4606735854623672\n",
      "Objective value at epoch t=42 is 0.46058066460992053\n",
      "Objective value at epoch t=43 is 0.4604968885616042\n",
      "Objective value at epoch t=44 is 0.4604213710067297\n",
      "Objective value at epoch t=45 is 0.4603533088722648\n",
      "Objective value at epoch t=46 is 0.46029197503174657\n",
      "Objective value at epoch t=47 is 0.4602367115460632\n",
      "Objective value at epoch t=48 is 0.4601869234202776\n",
      "Objective value at epoch t=49 is 0.4601420728553398\n",
      "Objective value at epoch t=50 is 0.4601016739699002\n",
      "Objective value at epoch t=51 is 0.460065287965273\n",
      "Objective value at epoch t=52 is 0.4600325187054727\n",
      "Objective value at epoch t=53 is 0.4600030086839378\n",
      "Objective value at epoch t=54 is 0.4599764353489021\n",
      "Objective value at epoch t=55 is 0.4599525077601315\n",
      "Objective value at epoch t=56 is 0.4599309635508179\n",
      "Objective value at epoch t=57 is 0.4599115661697133\n",
      "Objective value at epoch t=58 is 0.45989410238001066\n",
      "Objective value at epoch t=59 is 0.4598783799929452\n",
      "Objective value at epoch t=60 is 0.4598642258155972\n",
      "Objective value at epoch t=61 is 0.4598514837938533\n",
      "Objective value at epoch t=62 is 0.4598400133329519\n",
      "Objective value at epoch t=63 is 0.4598296877793889\n",
      "Objective value at epoch t=64 is 0.459820393049327\n",
      "Objective value at epoch t=65 is 0.4598120263898595\n",
      "Objective value at epoch t=66 is 0.4598044952606718\n",
      "Objective value at epoch t=67 is 0.4597977163247225\n",
      "Objective value at epoch t=68 is 0.45979161453757955\n",
      "Objective value at epoch t=69 is 0.4597861223259848\n",
      "Objective value at epoch t=70 is 0.45978117884706754\n",
      "Objective value at epoch t=71 is 0.4597767293204306\n",
      "Objective value at epoch t=72 is 0.4597727244260562\n",
      "Objective value at epoch t=73 is 0.4597691197616268\n",
      "Objective value at epoch t=74 is 0.4597658753534737\n",
      "Objective value at epoch t=75 is 0.4597629552159194\n",
      "Objective value at epoch t=76 is 0.4597603269542561\n",
      "Objective value at epoch t=77 is 0.45975796140709935\n",
      "Objective value at epoch t=78 is 0.4597558323242204\n",
      "Objective value at epoch t=79 is 0.4597539160763787\n",
      "Objective value at epoch t=80 is 0.459752191393992\n",
      "Objective value at epoch t=81 is 0.45975063913179026\n",
      "Objective value at epoch t=82 is 0.45974924205688683\n",
      "Objective value at epoch t=83 is 0.45974798465794864\n",
      "Objective value at epoch t=84 is 0.45974685297336954\n",
      "Objective value at epoch t=85 is 0.45974583443656486\n",
      "Objective value at epoch t=86 is 0.4597449177366908\n",
      "Objective value at epoch t=87 is 0.459744092693234\n",
      "Objective value at epoch t=88 is 0.4597433501431326\n",
      "Objective value at epoch t=89 is 0.45974268183913936\n",
      "Objective value at epoch t=90 is 0.4597420803583355\n",
      "Objective value at epoch t=91 is 0.45974153901977066\n",
      "Objective value at epoch t=92 is 0.4597410518103322\n",
      "Objective value at epoch t=93 is 0.4597406133180054\n",
      "Objective value at epoch t=94 is 0.45974021867180825\n",
      "Objective value at epoch t=95 is 0.4597398634877165\n",
      "Objective value at epoch t=96 is 0.45973954381999793\n",
      "Objective value at epoch t=97 is 0.4597392561174017\n",
      "Objective value at epoch t=98 is 0.4597389971837291\n",
      "Objective value at epoch t=99 is 0.4597387641423416\n"
     ]
    }
   ],
   "source": [
    "# MB-SGD with batch size b=8\n",
    "lam = 1E-6 # do not change\n",
    "b = 8 # do not change\n",
    "stepsize = 0.1 # you must tune this parameter\n",
    "\n",
    "w, objvals_mbsgd8 = mb_sgd(x_train, y_train, lam, b, stepsize)"
   ]
  },
  {
   "cell_type": "code",
   "execution_count": 20,
   "metadata": {},
   "outputs": [
    {
     "name": "stdout",
     "output_type": "stream",
     "text": [
      "Objective value at epoch t=0 is 0.5178150328368315\n",
      "Objective value at epoch t=1 is 0.5078435795690179\n",
      "Objective value at epoch t=2 is 0.5033315758978059\n",
      "Objective value at epoch t=3 is 0.4991883241682899\n",
      "Objective value at epoch t=4 is 0.4954966300960212\n",
      "Objective value at epoch t=5 is 0.49220075295179627\n",
      "Objective value at epoch t=6 is 0.48924732725577946\n",
      "Objective value at epoch t=7 is 0.48659078247569065\n",
      "Objective value at epoch t=8 is 0.4841927779955646\n",
      "Objective value at epoch t=9 is 0.4820212539516963\n",
      "Objective value at epoch t=10 is 0.4800494351500245\n",
      "Objective value at epoch t=11 is 0.47825487347442\n",
      "Objective value at epoch t=12 is 0.476618600758298\n",
      "Objective value at epoch t=13 is 0.47512443618489114\n",
      "Objective value at epoch t=14 is 0.47375845363194313\n",
      "Objective value at epoch t=15 is 0.47250858357208153\n",
      "Objective value at epoch t=16 is 0.47136431068112\n",
      "Objective value at epoch t=17 is 0.4703164309650084\n",
      "Objective value at epoch t=18 is 0.4693568438336855\n",
      "Objective value at epoch t=19 is 0.46847836750871935\n",
      "Objective value at epoch t=20 is 0.46767457556804726\n",
      "Objective value at epoch t=21 is 0.466939656780626\n",
      "Objective value at epoch t=22 is 0.4662683005703399\n",
      "Objective value at epoch t=23 is 0.46565560840158166\n",
      "Objective value at epoch t=24 is 0.4650970289062151\n",
      "Objective value at epoch t=25 is 0.46458831277952867\n",
      "Objective value at epoch t=26 is 0.46412548272004034\n",
      "Objective value at epoch t=27 is 0.46370481383449036\n",
      "Objective value at epoch t=28 is 0.46332282063291996\n",
      "Objective value at epoch t=29 is 0.46297624766326456\n",
      "Objective value at epoch t=30 is 0.4626620617430978\n",
      "Objective value at epoch t=31 is 0.4623774445112141\n",
      "Objective value at epoch t=32 is 0.46211978460119607\n",
      "Objective value at epoch t=33 is 0.4618866691408283\n",
      "Objective value at epoch t=34 is 0.4616758745365702\n",
      "Objective value at epoch t=35 is 0.46148535664808354\n",
      "Objective value at epoch t=36 is 0.4613132405278718\n",
      "Objective value at epoch t=37 is 0.4611578099224073\n",
      "Objective value at epoch t=38 is 0.46101749672354053\n",
      "Objective value at epoch t=39 is 0.4608908705361177\n",
      "Objective value at epoch t=40 is 0.46077662849849743\n",
      "Objective value at epoch t=41 is 0.4606735854623672\n",
      "Objective value at epoch t=42 is 0.46058066460992053\n",
      "Objective value at epoch t=43 is 0.4604968885616042\n",
      "Objective value at epoch t=44 is 0.4604213710067297\n",
      "Objective value at epoch t=45 is 0.4603533088722648\n",
      "Objective value at epoch t=46 is 0.46029197503174657\n",
      "Objective value at epoch t=47 is 0.4602367115460632\n",
      "Objective value at epoch t=48 is 0.4601869234202776\n",
      "Objective value at epoch t=49 is 0.4601420728553398\n",
      "Objective value at epoch t=50 is 0.4601016739699002\n",
      "Objective value at epoch t=51 is 0.460065287965273\n",
      "Objective value at epoch t=52 is 0.4600325187054727\n",
      "Objective value at epoch t=53 is 0.4600030086839378\n",
      "Objective value at epoch t=54 is 0.4599764353489021\n",
      "Objective value at epoch t=55 is 0.4599525077601315\n",
      "Objective value at epoch t=56 is 0.4599309635508179\n",
      "Objective value at epoch t=57 is 0.4599115661697133\n",
      "Objective value at epoch t=58 is 0.45989410238001066\n",
      "Objective value at epoch t=59 is 0.4598783799929452\n",
      "Objective value at epoch t=60 is 0.4598642258155972\n",
      "Objective value at epoch t=61 is 0.4598514837938533\n",
      "Objective value at epoch t=62 is 0.4598400133329519\n",
      "Objective value at epoch t=63 is 0.4598296877793889\n",
      "Objective value at epoch t=64 is 0.459820393049327\n",
      "Objective value at epoch t=65 is 0.4598120263898595\n",
      "Objective value at epoch t=66 is 0.4598044952606718\n",
      "Objective value at epoch t=67 is 0.4597977163247225\n",
      "Objective value at epoch t=68 is 0.45979161453757955\n",
      "Objective value at epoch t=69 is 0.4597861223259848\n",
      "Objective value at epoch t=70 is 0.45978117884706754\n",
      "Objective value at epoch t=71 is 0.4597767293204306\n",
      "Objective value at epoch t=72 is 0.4597727244260562\n",
      "Objective value at epoch t=73 is 0.4597691197616268\n",
      "Objective value at epoch t=74 is 0.4597658753534737\n",
      "Objective value at epoch t=75 is 0.4597629552159194\n",
      "Objective value at epoch t=76 is 0.4597603269542561\n",
      "Objective value at epoch t=77 is 0.45975796140709935\n",
      "Objective value at epoch t=78 is 0.4597558323242204\n",
      "Objective value at epoch t=79 is 0.4597539160763787\n",
      "Objective value at epoch t=80 is 0.459752191393992\n",
      "Objective value at epoch t=81 is 0.45975063913179026\n",
      "Objective value at epoch t=82 is 0.45974924205688683\n",
      "Objective value at epoch t=83 is 0.45974798465794864\n",
      "Objective value at epoch t=84 is 0.45974685297336954\n",
      "Objective value at epoch t=85 is 0.45974583443656486\n",
      "Objective value at epoch t=86 is 0.4597449177366908\n",
      "Objective value at epoch t=87 is 0.459744092693234\n",
      "Objective value at epoch t=88 is 0.4597433501431326\n",
      "Objective value at epoch t=89 is 0.45974268183913936\n",
      "Objective value at epoch t=90 is 0.4597420803583355\n",
      "Objective value at epoch t=91 is 0.45974153901977066\n",
      "Objective value at epoch t=92 is 0.4597410518103322\n",
      "Objective value at epoch t=93 is 0.4597406133180054\n",
      "Objective value at epoch t=94 is 0.45974021867180825\n",
      "Objective value at epoch t=95 is 0.4597398634877165\n",
      "Objective value at epoch t=96 is 0.45973954381999793\n",
      "Objective value at epoch t=97 is 0.4597392561174017\n",
      "Objective value at epoch t=98 is 0.4597389971837291\n",
      "Objective value at epoch t=99 is 0.4597387641423416\n"
     ]
    }
   ],
   "source": [
    "# MB-SGD with batch size b=64\n",
    "lam = 1E-6 # do not change\n",
    "b = 64 # do not change\n",
    "stepsize = 0.1 # you must tune this parameter\n",
    "\n",
    "w, objvals_mbsgd64 = mb_sgd(x_train, y_train, lam, b, stepsize)"
   ]
  },
  {
   "cell_type": "markdown",
   "metadata": {},
   "source": [
    "# 7. Plot and compare GD, SGD, and MB-SGD"
   ]
  },
  {
   "cell_type": "markdown",
   "metadata": {},
   "source": [
    "You are required to compare the following algorithms:\n",
    "\n",
    "- Gradient descent (GD)\n",
    "\n",
    "- SGD\n",
    "\n",
    "- MB-SGD with b=8\n",
    "\n",
    "- MB-SGD with b=64\n",
    "\n",
    "Follow the code in Section 4 to plot ```objective function value``` against ```epochs```. There should be four curves in the plot; each curve corresponds to one algorithm."
   ]
  },
  {
   "cell_type": "markdown",
   "metadata": {},
   "source": [
    "Hint: Logistic regression with $\\ell_2$-norm regularization is a strongly convex optimization problem. All the algorithms will converge to the same solution. **In the end, the ``objective function value`` of the 4 algorithms will be the same. If not the same, your implementation must be wrong. Do NOT submit wrong code and wrong result!**"
   ]
  },
  {
   "cell_type": "code",
   "execution_count": 21,
   "metadata": {},
   "outputs": [
    {
     "name": "stderr",
     "output_type": "stream",
     "text": [
      "<ipython-input-21-3ebf6db3e440>:13: MatplotlibDeprecationWarning: Case-insensitive properties were deprecated in 3.3 and support will be removed two minor releases later\n",
      "  line0, = plt.plot(epochs_gd, objvals_gd, '--b', LineWidth=4)\n",
      "<ipython-input-21-3ebf6db3e440>:14: MatplotlibDeprecationWarning: Case-insensitive properties were deprecated in 3.3 and support will be removed two minor releases later\n",
      "  line1, = plt.plot(epochs_sgd, objvals_sgd, '-r', LineWidth=2)\n",
      "<ipython-input-21-3ebf6db3e440>:15: MatplotlibDeprecationWarning: Case-insensitive properties were deprecated in 3.3 and support will be removed two minor releases later\n",
      "  line2, = plt.plot(epochs_mbsgd8, objvals_mbsgd8, '--g', LineWidth=4)\n",
      "<ipython-input-21-3ebf6db3e440>:16: MatplotlibDeprecationWarning: Case-insensitive properties were deprecated in 3.3 and support will be removed two minor releases later\n",
      "  line3, = plt.plot(epochs_mbsgd64, objvals_mbsgd64, '-y', LineWidth=2)\n",
      "<ipython-input-21-3ebf6db3e440>:17: MatplotlibDeprecationWarning: Case-insensitive properties were deprecated in 3.3 and support will be removed two minor releases later\n",
      "  plt.xlabel('Epochs', FontSize=20)\n",
      "<ipython-input-21-3ebf6db3e440>:18: MatplotlibDeprecationWarning: Case-insensitive properties were deprecated in 3.3 and support will be removed two minor releases later\n",
      "  plt.ylabel('Objective Value', FontSize=20)\n",
      "<ipython-input-21-3ebf6db3e440>:19: MatplotlibDeprecationWarning: Case-insensitive properties were deprecated in 3.3 and support will be removed two minor releases later\n",
      "  plt.xticks(FontSize=16)\n",
      "<ipython-input-21-3ebf6db3e440>:20: MatplotlibDeprecationWarning: Case-insensitive properties were deprecated in 3.3 and support will be removed two minor releases later\n",
      "  plt.yticks(FontSize=16)\n"
     ]
    },
    {
     "data": {
      "image/png": "[encoded data removed]",
      "text/plain": [
       "<Figure size 432x288 with 1 Axes>"
      ]
     },
     "metadata": {
      "needs_background": "light"
     },
     "output_type": "display_data"
    }
   ],
   "source": [
    "# plot the 4 curves:\n",
    "import matplotlib.pyplot as plt\n",
    "%matplotlib inline\n",
    "\n",
    "fig = plt.figure(figsize=(6, 4))\n",
    "\n",
    "epochs_gd = range(len(objvals_gd))\n",
    "epochs_sgd = range(len(objvals_sgd))\n",
    "epochs_mbsgd8 = range(len(objvals_mbsgd8))\n",
    "epochs_mbsgd64 = range(len(objvals_mbsgd64))\n",
    "\n",
    "\n",
    "line0, = plt.plot(epochs_gd, objvals_gd, '--b', LineWidth=4)\n",
    "line1, = plt.plot(epochs_sgd, objvals_sgd, '-r', LineWidth=2)\n",
    "line2, = plt.plot(epochs_mbsgd8, objvals_mbsgd8, '--g', LineWidth=4)\n",
    "line3, = plt.plot(epochs_mbsgd64, objvals_mbsgd64, '-y', LineWidth=2)\n",
    "plt.xlabel('Epochs', FontSize=20)\n",
    "plt.ylabel('Objective Value', FontSize=20)\n",
    "plt.xticks(FontSize=16)\n",
    "plt.yticks(FontSize=16)\n",
    "plt.legend([line0, line1, line2, line3], ['GD', 'SGD', 'MB-SGD8', 'MB_SGD64'], fontsize=20)\n",
    "plt.tight_layout()\n",
    "plt.show()\n",
    "fig.savefig('compare_gd_sgd_mbsgd8_mbsgd64.pdf', format='pdf', dpi=1200)"
   ]
  },
  {
   "cell_type": "markdown",
   "metadata": {},
   "source": []
  }
 ],
 "metadata": {
  "kernelspec": {
   "display_name": "Python 3",
   "language": "python",
   "name": "python3"
  },
  "language_info": {
   "codemirror_mode": {
    "name": "ipython",
    "version": 3
   },
   "file_extension": ".py",
   "mimetype": "text/x-python",
   "name": "python",
   "nbconvert_exporter": "python",
   "pygments_lexer": "ipython3",
   "version": "3.8.5"
  }
 },
 "nbformat": 4,
 "nbformat_minor": 2
}
